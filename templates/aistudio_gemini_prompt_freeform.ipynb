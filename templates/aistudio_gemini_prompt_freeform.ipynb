{
  "cells": [
    {
      "cell_type": "code",
      "source": [
        "from google.colab import drive\n",
        "drive.mount('/content/drive')"
      ],
      "metadata": {
        "id": "H89BLFkg6KN8",
        "outputId": "45ff30ab-7b8b-405f-e365-388d4d7862d2",
        "colab": {
          "base_uri": "https://localhost:8080/"
        }
      },
      "execution_count": 1,
      "outputs": [
        {
          "output_type": "stream",
          "name": "stdout",
          "text": [
            "Mounted at /content/drive\n"
          ]
        }
      ]
    },
    {
      "cell_type": "markdown",
      "metadata": {
        "id": "Tce3stUlHN0L"
      },
      "source": [
        "##### Copyright 2023 Google LLC"
      ]
    },
    {
      "cell_type": "code",
      "execution_count": null,
      "metadata": {
        "id": "tuOe1ymfHZPu"
      },
      "outputs": [],
      "source": [
        "# @title Licensed under the Apache License, Version 2.0 (the \"License\");\n",
        "# you may not use this file except in compliance with the License.\n",
        "# You may obtain a copy of the License at\n",
        "#\n",
        "# https://www.apache.org/licenses/LICENSE-2.0\n",
        "#\n",
        "# Unless required by applicable law or agreed to in writing, software\n",
        "# distributed under the License is distributed on an \"AS IS\" BASIS,\n",
        "# WITHOUT WARRANTIES OR CONDITIONS OF ANY KIND, either express or implied.\n",
        "# See the License for the specific language governing permissions and\n",
        "# limitations under the License."
      ]
    },
    {
      "cell_type": "markdown",
      "metadata": {
        "id": "FKwyTRdwB8aW"
      },
      "source": [
        "## Setup"
      ]
    },
    {
      "cell_type": "code",
      "execution_count": 2,
      "metadata": {
        "id": "RXInneX6xx7c"
      },
      "outputs": [],
      "source": [
        "!pip install -U -q \"google-generativeai>=0.8.2\""
      ]
    },
    {
      "cell_type": "code",
      "execution_count": 3,
      "metadata": {
        "id": "kWIuwKG2_oWE",
        "colab": {
          "base_uri": "https://localhost:8080/"
        },
        "outputId": "6b9c2128-fabf-4ae3-9fe6-93ca0e8a338a"
      },
      "outputs": [
        {
          "output_type": "stream",
          "name": "stdout",
          "text": [
            "[\n",
            "    {\n",
            "        \"role\": \"user\",\n",
            "        \"parts\": [\n",
            "            {\n",
            "                \"text\": \"You are a transcription specialist for food catering services, expert at refining messy transcripts from soft-phone recordings.  You will receive a messy transcript as input. Your task is to improve it by following these steps:\\\\n\\\\n1. **Spell-check:** Carefully review the entire transcript for spelling errors. Correct any misspellings while preserving the original meaning. Pay close attention to industry-specific terms related to food catering.\\\\n\\\\n2. **Rephrase:** Rephrase any awkward or unclear sentences in the transcript. Ensure the rephrased sentences are grammatically correct, flow smoothly, and maintain the original context within the food catering domain.\\\\n\\\\n3. **Summarize:** Summarize and concisely capture the main points of the rephrased transcript regarding food catering services. Focus on the key details like order details, delivery instructions, relevant rules or regulations, and any Q&A with the customer. You **must** include the specific answers provided by the salesperson so that the policies and procedures discussed can clearly be understood through the summary itself. Make sure to remove customer's name, contact number, or email address for privacy concerns.\\\\n\\\\n4. **Classify:** Based on the summary, classify the text to determine the category of the transcript, this includes: \\\\\\\\\\\\\\\"order placement\\\\\\\\\\\\\\\", \\\\\\\\\\\\\\\"order amendment/modification\\\\\\\\\\\\\\\", \\\\\\\\\\\\\\\"delivery/logistics\\\\\\\\\\\\\\\", \\\\\\\\\\\\\\\"pricing/payments\\\\\\\\\\\\\\\", \\\\\\\\\\\\\\\"refunds/cancellations\\\\\\\\\\\\\\\", \\\\\\\\\\\\\\\"complaints/feedback\\\\\\\\\\\\\\\", \\\\\\\\\\\\\\\"general faq\\\\\\\\\\\\\\\" which consists of general customer inquiries (e.g. prices, dishes, menu options, etc.) and \\\\\\\\\\\\\\\"irrelevant\\\\\\\\\\\\\\\".\\\\n\\\\n5. **Determine:** Based on the messy transcript, and the following list of official branches:[neo garden, chilli manis, delihub, cater co, kim paradise, orange clove, tingkat, best catering, savoury catering, umisushi, kryston], determine the branch of the current transcript. If none match, say 'unknown'.\\\\\\\\\\\\\\\"\\\\n\\\\nOutput valid JSON with no extra keys. You **must not** include any invalid backslashes. Do not escape the $ symbol. If you need to include a dollar sign, just write it as $.\\\\nDo not include extra backslashes for Unicode characters. If you need a special character like \\u00b1, write it directly as \\u00b1 or use a single valid JSON escape sequence \\\\\\\"\\\\\\\\u00B1\\\\\\\".\\\\n\\\\nOutput your refined transcript following this format:\\\\n**Summary:** [The concise summary of the transcript]\\\\n**Category:** [The classified category of the transcript]\\\\n**Branch:** [The branch name identified]\\\\n\\\\nMessy Transcript: can you speak to mrs yong mrs yong kelly here from neo garden you have learnt to inform your other on 14 of me on 14 of april send so this send so we will start this around 515 can i check soon when they come at 515 how long do they need to start up they start up at half an hour 515 and the food ready by 545 theyll be plus or minus 30 minutes in that case when a client comes back we change to 5 pm and the food ready by 530 plus or minus 30 minutes then the collection time m know what time will prefer maximum for our until 9 pm 9 pm oh then 9 pm 9 pm is for you huh good so although well be sent to do you provide a chance and table or t additional chance table is under rental how much would that be these are right then the table is good tag one table can sit about 6 people charge her 15 and the two are bad rest 1 per piece i taking real whether i use a table or t they have ugh table and check your function room i tank have right a phone a phone if you scan it ugh it can rent be 1 or 2 1 or 2 i rent one table 1 extra table huh how about the two i actually have like 6 or 6 2 myself how about the function room got check i have then need for the check i want to rent 10 minimum 10 pieces h or 1 piece 1 per piece i want 1 per piece minimum 10 pieces i get 10 10 1 extra table and 10 2 before the enemy comforts additional 25 right correct correct so let me confirm your address first address will be sent to blossom residences functional at level 1 right 13 sing i wrote i know functional at level 1 h so the function need to p any st kiss there a direct access to level 1 functional right h correct i mean you guys would have come to here before right oh h we come there before but just to double check i dont need to p any st kiss need good 10 problem so other would be for 40 people under the new blossom manual there additional for 100 pieces right h all the food will be warmer right w correct we just co one hour before and the food comes with warmer still hot best consume treat our real issue and then there the cutlery right the table for food warmer utensil like four spoon until its all 2007 huh veer this one is for both d or workout event t really birth yamaha just a gathering just longer longer and smaller just a single celebration just gathering all the w h gathering ha cant get problem so mr cong i would s the confirmation email together with a pent link jade and bole denari sea item a bole pula no terrain bole bole ada no lain a akan keypad and a akan keypad and ada no lain untuck koala koala no lain untuck koala koala no lain untuck koala only for baby woman dan no pertain jade koala no and koala a taken bole a taken keypad and terms cash terms cash terms cash\"\n",
            "            }\n",
            "        ]\n",
            "    },\n",
            "    {\n",
            "        \"role\": \"model\",\n",
            "        \"parts\": [\n",
            "            {\n",
            "                \"text\": \"```json\\\\n{\\\\n  \\\\\\\"Summary\\\\\\\": \\\\\\\"A catering order was placed with Neo Garden for an event at Blossom Residences. The order is for 40 people, with additional cutlery for 100 people.  The event is a gathering, not a wedding or corporate event.  Food delivery is scheduled for 5:00 PM, with the food ready by 5:30 PM (\\u00b130 minutes). One extra table (for 6 people) and 10 additional chairs will be rented. The total cost for table and chair rental is $15 for the table and $10 for the chairs ($10 x 10 chairs = $100). The delivery address is Blossom Residences, Level 1. There's direct access to Level 1.  The food will be served with warmers to ensure it stays hot. The order includes cutlery, plates, spoons, etc. Payment will be made in cash.\\\\\\\",\\\\n  \\\\\\\"Category\\\\\\\": \\\\\\\"order placement\\\\\\\",\\\\n  \\\\\\\"Branch\\\\\\\": \\\\\\\"neo garden\\\\\\\"\\\\n}\\\\n```\\\\n\"\n",
            "            }\n",
            "        ]\n",
            "    }\n",
            "]\n"
          ]
        }
      ],
      "source": [
        "# import necessary modules.\n",
        "import base64\n",
        "import copy\n",
        "import json\n",
        "import pathlib\n",
        "import requests\n",
        "\n",
        "\n",
        "import PIL.Image\n",
        "import IPython.display\n",
        "from IPython.display import Markdown\n",
        "\n",
        "try:\n",
        "    # The SDK will automatically read it from the GOOGLE_API_KEY environment variable.\n",
        "    # In Colab get the key from Colab-secrets (\"🔑\" in the left panel).\n",
        "    import os\n",
        "    from google.colab import userdata\n",
        "\n",
        "    os.environ[\"GOOGLE_API_KEY\"] = userdata.get(\"GOOGLE_API_KEY\")\n",
        "except ImportError:\n",
        "    pass\n",
        "\n",
        "import google.generativeai as genai\n",
        "\n",
        "# Parse the arguments\n",
        "\n",
        "model = 'gemini-1.5-flash' # @param {isTemplate: true}\n",
        "contents_b64 = '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' # @param {isTemplate: true}\n",
        "generation_config_b64 = 'eyJ0ZW1wZXJhdHVyZSI6MSwidG9wX3AiOjAuOTUsInRvcF9rIjo0MCwibWF4X291dHB1dF90b2tlbnMiOjIwNDh9' # @param {isTemplate: true}\n",
        "safety_settings_b64 = \"e30=\"  # @param {isTemplate: true}\n",
        "\n",
        "gais_contents = json.loads(base64.b64decode(contents_b64))\n",
        "\n",
        "generation_config = json.loads(base64.b64decode(generation_config_b64))\n",
        "safety_settings = json.loads(base64.b64decode(safety_settings_b64))\n",
        "\n",
        "stream = False\n",
        "\n",
        "# Convert and upload the files\n",
        "\n",
        "tempfiles = pathlib.Path(f\"tempfiles\")\n",
        "tempfiles.mkdir(parents=True, exist_ok=True)\n",
        "\n",
        "\n",
        "drive = None\n",
        "def upload_file_data(file_data, index):\n",
        "    \"\"\"Upload files to the Files API.\n",
        "\n",
        "    For each file, Google AI Studio either sent:\n",
        "    - a Google Drive ID,\n",
        "    - a URL,\n",
        "    - a file path, or\n",
        "    - The raw bytes (`inline_data`).\n",
        "\n",
        "    The API only understands `inline_data` or it's Files API.\n",
        "    This code, uploads files to the files API where the API can access them.\n",
        "    \"\"\"\n",
        "\n",
        "    mime_type = file_data[\"mime_type\"]\n",
        "    if drive_id := file_data.pop(\"drive_id\", None):\n",
        "        if drive is None:\n",
        "          from google.colab import drive\n",
        "          drive.mount(\"/gdrive\")\n",
        "\n",
        "        path = next(\n",
        "            pathlib.Path(f\"/gdrive/.shortcut-targets-by-id/{drive_id}\").glob(\"*\")\n",
        "        )\n",
        "        print(\"Uploading:\", str(path))\n",
        "        file_info = genai.upload_file(path=path, mime_type=mime_type)\n",
        "        file_data[\"file_uri\"] = file_info.uri\n",
        "        return\n",
        "\n",
        "    if url := file_data.pop(\"url\", None):\n",
        "        response = requests.get(url)\n",
        "        data = response.content\n",
        "        name = url.split(\"/\")[-1]\n",
        "        path = tempfiles / str(index)\n",
        "        path.write_bytes(data)\n",
        "        print(\"Uploading:\", url)\n",
        "        file_info = genai.upload_file(path, display_name=name, mime_type=mime_type)\n",
        "        file_data[\"file_uri\"] = file_info.uri\n",
        "        return\n",
        "\n",
        "    if name := file_data.get(\"filename\", None):\n",
        "        if not pathlib.Path(name).exists():\n",
        "            raise IOError(\n",
        "                f\"local file: `{name}` does not exist. You can upload files \"\n",
        "                'to Colab using the file manager (\"📁 Files\" in the left '\n",
        "                \"toolbar)\"\n",
        "            )\n",
        "        file_info = genai.upload_file(path, display_name=name, mime_type=mime_type)\n",
        "        file_data[\"file_uri\"] = file_info.uri\n",
        "        return\n",
        "\n",
        "    if \"inline_data\" in file_data:\n",
        "        return\n",
        "\n",
        "    raise ValueError(\"Either `drive_id`, `url` or `inline_data` must be provided.\")\n",
        "\n",
        "\n",
        "contents = copy.deepcopy(gais_contents)\n",
        "\n",
        "index = 0\n",
        "for content in contents:\n",
        "    for n, part in enumerate(content[\"parts\"]):\n",
        "        if file_data := part.get(\"file_data\", None):\n",
        "            upload_file_data(file_data, index)\n",
        "            index += 1\n",
        "\n",
        "import json\n",
        "print(json.dumps(contents, indent=4))"
      ]
    },
    {
      "cell_type": "markdown",
      "metadata": {
        "id": "E7zAD69vE92b"
      },
      "source": [
        "## Call `generate_content`"
      ]
    },
    {
      "cell_type": "code",
      "execution_count": 4,
      "metadata": {
        "id": "LB2LxPmAB95V",
        "colab": {
          "base_uri": "https://localhost:8080/",
          "height": 17
        },
        "outputId": "ff7f86c0-a93d-4560-aaf3-65e27cc2bd8d"
      },
      "outputs": [
        {
          "output_type": "display_data",
          "data": {
            "text/plain": [
              "<IPython.core.display.Markdown object>"
            ],
            "text/markdown": ""
          },
          "metadata": {}
        }
      ],
      "source": [
        "from IPython.display import display\n",
        "from IPython.display import Markdown\n",
        "\n",
        "# Call the model and print the response.\n",
        "gemini = genai.GenerativeModel(model_name=model)\n",
        "\n",
        "response = gemini.generate_content(\n",
        "    contents,\n",
        "    generation_config=generation_config,\n",
        "    safety_settings=safety_settings,\n",
        "    stream=stream,\n",
        ")\n",
        "\n",
        "display(Markdown(response.text))"
      ]
    },
    {
      "cell_type": "markdown",
      "metadata": {
        "id": "9c9d345e9868"
      },
      "source": [
        "<table class=\"tfo-notebook-buttons\" align=\"left\">\n",
        "  <td>\n",
        "    <a target=\"_blank\" href=\"https://ai.google.dev/gemini-api/docs\"><img src=\"https://ai.google.dev/static/site-assets/images/docs/notebook-site-button.png\" height=\"32\" width=\"32\" />Docs on ai.google.dev</a>\n",
        "  </td>\n",
        "  <td>\n",
        "    <a target=\"_blank\" href=\"https://github.com/google-gemini/cookbook/blob/main/quickstarts\"><img src=\"https://www.tensorflow.org/images/GitHub-Mark-32px.png\" />More notebooks in the Cookbook</a>\n",
        "  </td>\n",
        "</table>"
      ]
    },
    {
      "cell_type": "markdown",
      "metadata": {
        "id": "F91AeeGO1ncU"
      },
      "source": [
        "## [optional] Show the conversation\n",
        "\n",
        "This section displays the conversation received from Google AI Studio."
      ]
    },
    {
      "cell_type": "code",
      "execution_count": 5,
      "metadata": {
        "id": "yoL3p3KPylFW",
        "colab": {
          "base_uri": "https://localhost:8080/"
        },
        "outputId": "c32a33ac-5a4f-4923-bb8d-790e0c8b6df8"
      },
      "outputs": [
        {
          "output_type": "stream",
          "name": "stdout",
          "text": [
            "Role: user \n",
            "\n",
            "You are a transcription specialist for food catering services, expert at refining messy transcripts from soft-phone recordings.  You will receive a messy transcript as input. Your task is to improve it by following these steps:\\n\\n1. **Spell-check:** Carefully review the entire transcript for spelling errors. Correct any misspellings while preserving the original meaning. Pay close attention to industry-specific terms related to food catering.\\n\\n2. **Rephrase:** Rephrase any awkward or unclear sentences in the transcript. Ensure the rephrased sentences are grammatically correct, flow smoothly, and maintain the original context within the food catering domain.\\n\\n3. **Summarize:** Summarize and concisely capture the main points of the rephrased transcript regarding food catering services. Focus on the key details like order details, delivery instructions, relevant rules or regulations, and any Q&A with the customer. You **must** include the specific answers provided by the salesperson so that the policies and procedures discussed can clearly be understood through the summary itself. Make sure to remove customer's name, contact number, or email address for privacy concerns.\\n\\n4. **Classify:** Based on the summary, classify the text to determine the category of the transcript, this includes: \\\\\\\"order placement\\\\\\\", \\\\\\\"order amendment/modification\\\\\\\", \\\\\\\"delivery/logistics\\\\\\\", \\\\\\\"pricing/payments\\\\\\\", \\\\\\\"refunds/cancellations\\\\\\\", \\\\\\\"complaints/feedback\\\\\\\", \\\\\\\"general faq\\\\\\\" which consists of general customer inquiries (e.g. prices, dishes, menu options, etc.) and \\\\\\\"irrelevant\\\\\\\".\\n\\n5. **Determine:** Based on the messy transcript, and the following list of official branches:[neo garden, chilli manis, delihub, cater co, kim paradise, orange clove, tingkat, best catering, savoury catering, umisushi, kryston], determine the branch of the current transcript. If none match, say 'unknown'.\\\\\\\"\\n\\nOutput valid JSON with no extra keys. You **must not** include any invalid backslashes. Do not escape the $ symbol. If you need to include a dollar sign, just write it as $.\\nDo not include extra backslashes for Unicode characters. If you need a special character like ±, write it directly as ± or use a single valid JSON escape sequence \\\"\\\\u00B1\\\".\\n\\nOutput your refined transcript following this format:\\n**Summary:** [The concise summary of the transcript]\\n**Category:** [The classified category of the transcript]\\n**Branch:** [The branch name identified]\\n\\nMessy Transcript: can you speak to mrs yong mrs yong kelly here from neo garden you have learnt to inform your other on 14 of me on 14 of april send so this send so we will start this around 515 can i check soon when they come at 515 how long do they need to start up they start up at half an hour 515 and the food ready by 545 theyll be plus or minus 30 minutes in that case when a client comes back we change to 5 pm and the food ready by 530 plus or minus 30 minutes then the collection time m know what time will prefer maximum for our until 9 pm 9 pm oh then 9 pm 9 pm is for you huh good so although well be sent to do you provide a chance and table or t additional chance table is under rental how much would that be these are right then the table is good tag one table can sit about 6 people charge her 15 and the two are bad rest 1 per piece i taking real whether i use a table or t they have ugh table and check your function room i tank have right a phone a phone if you scan it ugh it can rent be 1 or 2 1 or 2 i rent one table 1 extra table huh how about the two i actually have like 6 or 6 2 myself how about the function room got check i have then need for the check i want to rent 10 minimum 10 pieces h or 1 piece 1 per piece i want 1 per piece minimum 10 pieces i get 10 10 1 extra table and 10 2 before the enemy comforts additional 25 right correct correct so let me confirm your address first address will be sent to blossom residences functional at level 1 right 13 sing i wrote i know functional at level 1 h so the function need to p any st kiss there a direct access to level 1 functional right h correct i mean you guys would have come to here before right oh h we come there before but just to double check i dont need to p any st kiss need good 10 problem so other would be for 40 people under the new blossom manual there additional for 100 pieces right h all the food will be warmer right w correct we just co one hour before and the food comes with warmer still hot best consume treat our real issue and then there the cutlery right the table for food warmer utensil like four spoon until its all 2007 huh veer this one is for both d or workout event t really birth yamaha just a gathering just longer longer and smaller just a single celebration just gathering all the w h gathering ha cant get problem so mr cong i would s the confirmation email together with a pent link jade and bole denari sea item a bole pula no terrain bole bole ada no lain a akan keypad and a akan keypad and ada no lain untuck koala koala no lain untuck koala koala no lain untuck koala only for baby woman dan no pertain jade koala no and koala a taken bole a taken keypad and terms cash terms cash terms cash \n",
            "\n",
            "-------------------------------------------------------------------------------- \n",
            "\n",
            "Role: model \n",
            "\n",
            "```json\\n{\\n  \\\"Summary\\\": \\\"A catering order was placed with Neo Garden for an event at Blossom Residences. The order is for 40 people, with additional cutlery for 100 people.  The event is a gathering, not a wedding or corporate event.  Food delivery is scheduled for 5:00 PM, with the food ready by 5:30 PM (±30 minutes). One extra table (for 6 people) and 10 additional chairs will be rented. The total cost for table and chair rental is $15 for the table and $10 for the chairs ($10 x 10 chairs = $100). The delivery address is Blossom Residences, Level 1. There's direct access to Level 1.  The food will be served with warmers to ensure it stays hot. The order includes cutlery, plates, spoons, etc. Payment will be made in cash.\\\",\\n  \\\"Category\\\": \\\"order placement\\\",\\n  \\\"Branch\\\": \\\"neo garden\\\"\\n}\\n```\\n \n",
            "\n",
            "-------------------------------------------------------------------------------- \n",
            "\n"
          ]
        }
      ],
      "source": [
        "# @title Show the conversation, in colab.\n",
        "import mimetypes\n",
        "\n",
        "def show_file(file_data):\n",
        "    mime_type = file_data[\"mime_type\"]\n",
        "\n",
        "    if drive_id := file_data.get(\"drive_id\", None):\n",
        "        path = next(\n",
        "            pathlib.Path(f\"/gdrive/.shortcut-targets-by-id/{drive_id}\").glob(\"*\")\n",
        "        )\n",
        "        name = path\n",
        "        # data = path.read_bytes()\n",
        "        kwargs = {\"filename\": path}\n",
        "    elif url := file_data.get(\"url\", None):\n",
        "        name = url\n",
        "        kwargs = {\"url\": url}\n",
        "        # response = requests.get(url)\n",
        "        # data = response.content\n",
        "    elif data := file_data.get(\"inline_data\", None):\n",
        "        name = None\n",
        "        kwargs = {\"data\": data}\n",
        "    elif name := file_data.get(\"filename\", None):\n",
        "        if not pathlib.Path(name).exists():\n",
        "            raise IOError(\n",
        "                f\"local file: `{name}` does not exist. You can upload files to \"\n",
        "                'Colab using the file manager (\"📁 Files\"in the left toolbar)'\n",
        "            )\n",
        "    else:\n",
        "        raise ValueError(\"Either `drive_id`, `url` or `inline_data` must be provided.\")\n",
        "\n",
        "        print(f\"File:\\n    name: {name}\\n    mime_type: {mime_type}\\n\")\n",
        "        return\n",
        "\n",
        "    format = mimetypes.guess_extension(mime_type).strip(\".\")\n",
        "    if mime_type.startswith(\"image/\"):\n",
        "        image = IPython.display.Image(**kwargs, width=256)\n",
        "        IPython.display.display(image)\n",
        "        print()\n",
        "        return\n",
        "\n",
        "    if mime_type.startswith(\"audio/\"):\n",
        "        if len(data) < 2**12:\n",
        "            audio = IPython.display.Audio(**kwargs)\n",
        "            IPython.display.display(audio)\n",
        "            print()\n",
        "            return\n",
        "\n",
        "    if mime_type.startswith(\"video/\"):\n",
        "        if len(data) < 2**12:\n",
        "            audio = IPython.display.Video(**kwargs, mimetype=mime_type)\n",
        "            IPython.display.display(audio)\n",
        "            print()\n",
        "            return\n",
        "\n",
        "    print(f\"File:\\n    name: {name}\\n    mime_type: {mime_type}\\n\")\n",
        "\n",
        "\n",
        "for content in gais_contents:\n",
        "    if role := content.get(\"role\", None):\n",
        "        print(\"Role:\", role, \"\\n\")\n",
        "\n",
        "    for n, part in enumerate(content[\"parts\"]):\n",
        "        if text := part.get(\"text\", None):\n",
        "            print(text, \"\\n\")\n",
        "\n",
        "        elif file_data := part.get(\"file_data\", None):\n",
        "            show_file(file_data)\n",
        "\n",
        "    print(\"-\" * 80, \"\\n\")"
      ]
    },
    {
      "cell_type": "code",
      "source": [
        "os.environ[\"GOOGLE_API_KEY\"] = userdata.get(\"GOOGLE_API_KEY\")"
      ],
      "metadata": {
        "id": "SHHsxgbG6_Bm"
      },
      "execution_count": 8,
      "outputs": []
    },
    {
      "cell_type": "markdown",
      "source": [
        "# Import the data"
      ],
      "metadata": {
        "id": "Nbpf4obw7K8h"
      }
    },
    {
      "cell_type": "code",
      "source": [
        "data = []\n",
        "\n",
        "my_file = open(\"/content/drive/MyDrive/NGC/all_spell_checked.txt\", \"r\")\n",
        "\n",
        "# reading the file\n",
        "line = my_file.read()\n",
        "\n",
        "# splitting the text it further when '\\n' is seen.\n",
        "line = line.split(\"\\n\")\n",
        "\n",
        "data.extend(line)\n",
        "my_file.close()\n",
        "\n",
        "print(len(data)) # printing the data"
      ],
      "metadata": {
        "id": "2g6MAhh07Mps",
        "outputId": "e41540fc-414b-4ac1-fd01-32619fb17b5c",
        "colab": {
          "base_uri": "https://localhost:8080/"
        }
      },
      "execution_count": 10,
      "outputs": [
        {
          "output_type": "stream",
          "name": "stdout",
          "text": [
            "6871\n"
          ]
        }
      ]
    },
    {
      "cell_type": "markdown",
      "source": [
        "# Start generating response\n",
        "- Model: Gemini-1.5-flash"
      ],
      "metadata": {
        "id": "vOIA54ar7NHi"
      }
    },
    {
      "cell_type": "code",
      "source": [
        "\"\"\"\n",
        "Install an additional SDK for JSON schema support Google AI Python SDK\n",
        "\n",
        "$ pip install google.ai.generativelanguage\n",
        "\"\"\"\n",
        "\n",
        "import os\n",
        "import google.generativeai as genai\n",
        "from google.ai.generativelanguage_v1beta.types import content\n",
        "\n",
        "# genai.configure(api_key=os.environ[\"GEMINI_API_KEY\"])\n",
        "\n",
        "# Create the model\n",
        "generation_config = {\n",
        "  \"temperature\": 1,\n",
        "  \"top_p\": 0.95,\n",
        "  \"top_k\": 40,\n",
        "  \"max_output_tokens\": 2048,\n",
        "  \"response_schema\": content.Schema(\n",
        "    type = content.Type.OBJECT,\n",
        "    enum = [],\n",
        "    required = [\"summary\", \"category\", \"branch\"],\n",
        "    properties = {\n",
        "      \"summary\": content.Schema(\n",
        "        type = content.Type.STRING,\n",
        "      ),\n",
        "      \"category\": content.Schema(\n",
        "        type = content.Type.STRING,\n",
        "      ),\n",
        "      \"branch\": content.Schema(\n",
        "        type = content.Type.STRING,\n",
        "      ),\n",
        "    },\n",
        "  ),\n",
        "  \"response_mime_type\": \"application/json\",\n",
        "}\n",
        "\n",
        "model = genai.GenerativeModel(\n",
        "  model_name=\"gemini-1.5-flash\",\n",
        "  generation_config=generation_config,\n",
        "  system_instruction=\"You are an expert in English and correcting transcripts for a series of soft-phone recording from a catering service.\",\n",
        ")\n",
        "\n",
        "chat_session = model.start_chat(\n",
        "  history=[\n",
        "    {\n",
        "      \"role\": \"user\",\n",
        "      \"parts\": [\n",
        "        \"You are a transcription specialist for food catering services, expert at refining messy transcripts from soft-phone recordings.  You will receive a messy transcript as input. Your task is to improve it by following these steps:\\n\\n1. **Spell-check:** Carefully review the entire transcript for spelling errors. Correct any misspellings while preserving the original meaning. Pay close attention to industry-specific terms related to food catering.\\n\\n2. **Rephrase:** Rephrase any awkward or unclear sentences in the transcript. Ensure the rephrased sentences are grammatically correct, flow smoothly, and maintain the original context within the food catering domain.\\n\\n3. **Summarize:** Summarize and concisely capture the main points of the rephrased transcript regarding food catering services. Focus on the key details like order details, delivery instructions, relevant rules or regulations, and any Q&A with the customer. You **must** include the specific answers provided by the salesperson so that the policies and procedures discussed can clearly be understood through the summary itself. Make sure to remove customer's name, contact number, or email address for privacy concerns.\\n\\n4. **Classify:** Based on the summary, classify the text to determine the category of the transcript, this includes: \\\\\\\"order placement\\\\\\\", \\\\\\\"order amendment/modification\\\\\\\", \\\\\\\"delivery/logistics\\\\\\\", \\\\\\\"pricing/payments\\\\\\\", \\\\\\\"refunds/cancellations\\\\\\\", \\\\\\\"complaints/feedback\\\\\\\", \\\\\\\"general faq\\\\\\\" which consists of general customer inquiries (e.g. prices, dishes, menu options, etc.) and \\\\\\\"irrelevant\\\\\\\".\\n\\n5. **Determine:** Based on the messy transcript, and the following list of official branches:[neo garden, chilli manis, delihub, cater co, kim paradise, orange clove, tingkat, best catering, savoury catering, umisushi, kryston], determine the branch of the current transcript. If none match, say 'unknown'.\\\\\\\"\\n\\nOutput valid JSON with no extra keys. You **must not** include any invalid backslashes. Do not escape the $ symbol. If you need to include a dollar sign, just write it as $.\\nDo not include extra backslashes for Unicode characters. If you need a special character like ±, write it directly as ± or use a single valid JSON escape sequence \\\"\\\\u00B1\\\".\\n\\nOutput your refined transcript following this format:\\n**Summary:** [The concise summary of the transcript]\\n**Category:** [The classified category of the transcript]\\n**Branch:** [The branch name identified]\\n\\nMessy Transcript: can you speak to mrs yong mrs yong kelly here from neo garden you have learnt to inform your other on 14 of me on 14 of april send so this send so we will start this around 515 can i check soon when they come at 515 how long do they need to start up they start up at half an hour 515 and the food ready by 545 theyll be plus or minus 30 minutes in that case when a client comes back we change to 5 pm and the food ready by 530 plus or minus 30 minutes then the collection time m know what time will prefer maximum for our until 9 pm 9 pm oh then 9 pm 9 pm is for you huh good so although well be sent to do you provide a chance and table or t additional chance table is under rental how much would that be these are right then the table is good tag one table can sit about 6 people charge her 15 and the two are bad rest 1 per piece i taking real whether i use a table or t they have ugh table and check your function room i tank have right a phone a phone if you scan it ugh it can rent be 1 or 2 1 or 2 i rent one table 1 extra table huh how about the two i actually have like 6 or 6 2 myself how about the function room got check i have then need for the check i want to rent 10 minimum 10 pieces h or 1 piece 1 per piece i want 1 per piece minimum 10 pieces i get 10 10 1 extra table and 10 2 before the enemy comforts additional 25 right correct correct so let me confirm your address first address will be sent to blossom residences functional at level 1 right 13 sing i wrote i know functional at level 1 h so the function need to p any st kiss there a direct access to level 1 functional right h correct i mean you guys would have come to here before right oh h we come there before but just to double check i dont need to p any st kiss need good 10 problem so other would be for 40 people under the new blossom manual there additional for 100 pieces right h all the food will be warmer right w correct we just co one hour before and the food comes with warmer still hot best consume treat our real issue and then there the cutlery right the table for food warmer utensil like four spoon until its all 2007 huh veer this one is for both d or workout event t really birth yamaha just a gathering just longer longer and smaller just a single celebration just gathering all the w h gathering ha cant get problem so mr cong i would s the confirmation email together with a pent link jade and bole denari sea item a bole pula no terrain bole bole ada no lain a akan keypad and a akan keypad and ada no lain untuck koala koala no lain untuck koala koala no lain untuck koala only for baby woman dan no pertain jade koala no and koala a taken bole a taken keypad and terms cash terms cash terms cash\",\n",
        "      ],\n",
        "    },\n",
        "    {\n",
        "      \"role\": \"model\",\n",
        "      \"parts\": [\n",
        "        \"```json\\n{\\n  \\\"Summary\\\": \\\"A catering order was placed with Neo Garden for an event at Blossom Residences. The order is for 40 people, with additional cutlery for 100 people.  The event is a gathering, not a wedding or corporate event.  Food delivery is scheduled for 5:00 PM, with the food ready by 5:30 PM (±30 minutes). One extra table (for 6 people) and 10 additional chairs will be rented. The total cost for table and chair rental is $15 for the table and $10 for the chairs ($10 x 10 chairs = $100). The delivery address is Blossom Residences, Level 1. There's direct access to Level 1.  The food will be served with warmers to ensure it stays hot. The order includes cutlery, plates, spoons, etc. Payment will be made in cash.\\\",\\n  \\\"Category\\\": \\\"order placement\\\",\\n  \\\"Branch\\\": \\\"neo garden\\\"\\n}\\n```\\n\",\n",
        "      ],\n",
        "    },\n",
        "  ]\n",
        ")"
      ],
      "metadata": {
        "id": "U43TUzea63bo"
      },
      "execution_count": 17,
      "outputs": []
    },
    {
      "cell_type": "code",
      "source": [
        "chat_session.history"
      ],
      "metadata": {
        "id": "P6DEPzWt-MAz",
        "outputId": "a46a0918-7f53-49a1-dd85-a9bd98efff6e",
        "colab": {
          "base_uri": "https://localhost:8080/"
        }
      },
      "execution_count": 25,
      "outputs": [
        {
          "output_type": "execute_result",
          "data": {
            "text/plain": [
              "[parts {\n",
              "   text: \"You are a transcription specialist for food catering services, expert at refining messy transcripts from soft-phone recordings.  You will receive a messy transcript as input. Your task is to improve it by following these steps:\\n\\n1. **Spell-check:** Carefully review the entire transcript for spelling errors. Correct any misspellings while preserving the original meaning. Pay close attention to industry-specific terms related to food catering.\\n\\n2. **Rephrase:** Rephrase any awkward or unclear sentences in the transcript. Ensure the rephrased sentences are grammatically correct, flow smoothly, and maintain the original context within the food catering domain.\\n\\n3. **Summarize:** Summarize and concisely capture the main points of the rephrased transcript regarding food catering services. Focus on the key details like order details, delivery instructions, relevant rules or regulations, and any Q&A with the customer. You **must** include the specific answers provided by the salesperson so that the policies and procedures discussed can clearly be understood through the summary itself. Make sure to remove customer\\'s name, contact number, or email address for privacy concerns.\\n\\n4. **Classify:** Based on the summary, classify the text to determine the category of the transcript, this includes: \\\\\\\"order placement\\\\\\\", \\\\\\\"order amendment/modification\\\\\\\", \\\\\\\"delivery/logistics\\\\\\\", \\\\\\\"pricing/payments\\\\\\\", \\\\\\\"refunds/cancellations\\\\\\\", \\\\\\\"complaints/feedback\\\\\\\", \\\\\\\"general faq\\\\\\\" which consists of general customer inquiries (e.g. prices, dishes, menu options, etc.) and \\\\\\\"irrelevant\\\\\\\".\\n\\n5. **Determine:** Based on the messy transcript, and the following list of official branches:[neo garden, chilli manis, delihub, cater co, kim paradise, orange clove, tingkat, best catering, savoury catering, umisushi, kryston], determine the branch of the current transcript. If none match, say \\'unknown\\'.\\\\\\\"\\n\\nOutput valid JSON with no extra keys. You **must not** include any invalid backslashes. Do not escape the $ symbol. If you need to include a dollar sign, just write it as $.\\nDo not include extra backslashes for Unicode characters. If you need a special character like ±, write it directly as ± or use a single valid JSON escape sequence \\\"\\\\u00B1\\\".\\n\\nOutput your refined transcript following this format:\\n**Summary:** [The concise summary of the transcript]\\n**Category:** [The classified category of the transcript]\\n**Branch:** [The branch name identified]\\n\\nMessy Transcript: can you speak to mrs yong mrs yong kelly here from neo garden you have learnt to inform your other on 14 of me on 14 of april send so this send so we will start this around 515 can i check soon when they come at 515 how long do they need to start up they start up at half an hour 515 and the food ready by 545 theyll be plus or minus 30 minutes in that case when a client comes back we change to 5 pm and the food ready by 530 plus or minus 30 minutes then the collection time m know what time will prefer maximum for our until 9 pm 9 pm oh then 9 pm 9 pm is for you huh good so although well be sent to do you provide a chance and table or t additional chance table is under rental how much would that be these are right then the table is good tag one table can sit about 6 people charge her 15 and the two are bad rest 1 per piece i taking real whether i use a table or t they have ugh table and check your function room i tank have right a phone a phone if you scan it ugh it can rent be 1 or 2 1 or 2 i rent one table 1 extra table huh how about the two i actually have like 6 or 6 2 myself how about the function room got check i have then need for the check i want to rent 10 minimum 10 pieces h or 1 piece 1 per piece i want 1 per piece minimum 10 pieces i get 10 10 1 extra table and 10 2 before the enemy comforts additional 25 right correct correct so let me confirm your address first address will be sent to blossom residences functional at level 1 right 13 sing i wrote i know functional at level 1 h so the function need to p any st kiss there a direct access to level 1 functional right h correct i mean you guys would have come to here before right oh h we come there before but just to double check i dont need to p any st kiss need good 10 problem so other would be for 40 people under the new blossom manual there additional for 100 pieces right h all the food will be warmer right w correct we just co one hour before and the food comes with warmer still hot best consume treat our real issue and then there the cutlery right the table for food warmer utensil like four spoon until its all 2007 huh veer this one is for both d or workout event t really birth yamaha just a gathering just longer longer and smaller just a single celebration just gathering all the w h gathering ha cant get problem so mr cong i would s the confirmation email together with a pent link jade and bole denari sea item a bole pula no terrain bole bole ada no lain a akan keypad and a akan keypad and ada no lain untuck koala koala no lain untuck koala koala no lain untuck koala only for baby woman dan no pertain jade koala no and koala a taken bole a taken keypad and terms cash terms cash terms cash\"\n",
              " }\n",
              " role: \"user\",\n",
              " parts {\n",
              "   text: \"```json\\n{\\n  \\\"Summary\\\": \\\"A catering order was placed with Neo Garden for an event at Blossom Residences. The order is for 40 people, with additional cutlery for 100 people.  The event is a gathering, not a wedding or corporate event.  Food delivery is scheduled for 5:00 PM, with the food ready by 5:30 PM (±30 minutes). One extra table (for 6 people) and 10 additional chairs will be rented. The total cost for table and chair rental is $15 for the table and $10 for the chairs ($10 x 10 chairs = $100). The delivery address is Blossom Residences, Level 1. There\\'s direct access to Level 1.  The food will be served with warmers to ensure it stays hot. The order includes cutlery, plates, spoons, etc. Payment will be made in cash.\\\",\\n  \\\"Category\\\": \\\"order placement\\\",\\n  \\\"Branch\\\": \\\"neo garden\\\"\\n}\\n```\\n\"\n",
              " }\n",
              " role: \"model\",\n",
              " parts {\n",
              "   text: \"kim paradise morning id like to ask for a king card is there a difference in price whether it is plastic containers or disposable king card model 5 price tank of a disposable same price additional touch last time there was a difference right h for my growth container last time we got 3000 10 but w its a same price as well\"\n",
              " }\n",
              " role: \"user\",\n",
              " parts {\n",
              "   text: \"{\\\"branch\\\": \\\"kim paradise\\\", \\\"category\\\": \\\"general faq\\\", \\\"summary\\\": \\\"The customer inquired about the pricing of Kim Paradise\\'s King Card model 5, specifically whether the price differs between plastic containers and disposable ones. The salesperson clarified that the price is currently the same for both options, unlike in a previous instance where there was a price difference.  The customer mentioned a previous order of 3000 units.\\\"}\"\n",
              " }\n",
              " role: \"model\",\n",
              " parts {\n",
              "   text: \"kim paradise morning id like to ask for a king card is there a difference in price whether it is plastic containers or disposable king card model 5 price tank of a disposable same price additional touch last time there was a difference right h for my growth container last time we got 3000 10 but w its a same price as well\"\n",
              " }\n",
              " role: \"user\",\n",
              " parts {\n",
              "   text: \"{\\\"branch\\\": \\\"kim paradise\\\", \\\"category\\\": \\\"general faq\\\", \\\"summary\\\": \\\"The customer inquired about the pricing of Kim Paradise\\'s King Card model 5, specifically whether the price differs between plastic containers and disposable ones. The salesperson clarified that the price is currently the same for both options, unlike in a previous instance where there was a price difference. The customer mentioned a previous order of 3000 units.\\\"}\"\n",
              " }\n",
              " role: \"model\",\n",
              " parts {\n",
              "   text: \"kim paradise kim paradise i your assistant customer can i give you my phone number on the verify time method your contact number please 9630 271 h what is your regarding month actually i just received a renewal email correct so the client contract is actually from 101218 let me check your last contract first so your previous contract is from 1415 until chop of approval correct so far in between in between there is a good rid at 1919 so were already done replacement you checked my calendar right from 3 or 4 months to 4 months or so total of 20 is actually that good rid has already gone oh its already gone so its already gone so its already gone so its already gone correct so the contract is from 1318 then i have to s that i want to go to 1318 but 1318 is a rid so the contract contract will be 7515 then i have to go to 1318 i want to go to 1418 i want to go to 1318 i want to go to 1318 1118 do you want to go to 1318 1118 correct so your new contract is from 1518 well give you 1718 then i want to go to 1518 i want to go to 1518 wait for your new pent link ah then ill put that in the chat 1718 then after that you can s that you have to go to 1318 so the next contract will start the contract will start the contract will start but what i want to do is to review 1518 i wont give you 1218 dont go to 1518 ill take 1516 so the contract will start well give you 1318\"\n",
              " }\n",
              " role: \"user\",\n",
              " parts {\n",
              "   text: \"{\\n  \\\"branch\\\": \\\"kim paradise\\\",\\n  \\\"category\\\": \\\"order amendment/modification\\\",\\n  \\\"summary\\\": \\\"The customer called to discuss their contract renewal. Their previous contract was from 14/15, with a renewal in 19/19.  The customer wants to amend the contract start date, initially requesting 13/18, but ultimately settling for 15/16 after discussion with the representative. The representative confirmed the new contract start date as 15/16 and will send a new payment link.\\\"\\n}\"\n",
              " }\n",
              " role: \"model\",\n",
              " parts {\n",
              "   text: \"neo garden is this a cash to foin sorry can i ask to foin miners she on leave tod i actually received her email for my buffet confirmation so i just want to check i just read that the half warmer tag sorry because i ordered for the text correct the text will be put together in one warmer for information for the young souls half unlike its one long tree carried sugar is one raw warmer too much is one raw warmer then for the veggie and the fish for example one big warmer right you got two partition who put two dishes under the sharing tree there a partition of two trees two trees put inside one warmer i know worried the sauce will mix together one you need one of them h i also want to click and cry because i call a few times being taken out of a few trees because i myself have other veggie given text right there one that i cant put this text to consume a vegan hour but then the food itself can last for three hours three hours correct then because different people come with a different name because i want to prevent the vegan cry but i also want to get and cry if i can even though i can actually make a separate video for the private branch earlier then ill put it in the video we can arrange early delivery for the table and cr but there a rental the recharge 90 dollars 90 dollars after that actually that possible to be made possible as one of the so early delivery boy problem actually we also can send together the main table and cr rental can send early and the buffet will send later but there a transportation charge of 90 dollars can i do what you reply to her email then the person in charge will reply you oh so i just i just take the request because the other time when i call in they s can somebody call me they s can i can can early delivery can for the table rental but got transport charge as i said with the delivery charge then we can do delivery early ill write the email so much\"\n",
              " }\n",
              " role: \"user\",\n",
              " parts {\n",
              "   text: \"{\\n  \\\"branch\\\": \\\"neo garden\\\",\\n  \\\"category\\\": \\\"delivery/logistics\\\",\\n  \\\"summary\\\": \\\"The customer contacted Neo Garden to clarify food warmer arrangements for their buffet order.  They were concerned about sauce mixing if multiple dishes were placed in a single warmer.  The salesperson explained that Neo Garden uses warmers with partitions to avoid this.  The customer also discussed early delivery options for table and chair rentals. While early delivery is possible for the rentals, there\\'s a $90 transportation charge.  The customer requested that the salesperson respond to their email with this information, rather than proceeding with the request over the phone. The salesperson indicated that the person in charge will respond via email.\\\"\\n}\"\n",
              " }\n",
              " role: \"model\",\n",
              " parts {\n",
              "   text: \"kim paradise can i help you my phone number is 82 1 second 82 67 9 for all 78 1 second let me check for you anne is ad right h correct ad tend i want to make pent on your system down so i couldnt i dont know where to p can i s you dont have pent link w huh can i return you the pent link to your email you are i dont have email can you sums me we dont have sums system for pent link its only email email why h there an email address here oh i dont have email address hmm do you have the there m be a campaign by pa is it pa how do you make the pent previously website your website our website your website got a lot of code all the code give been to p through that account hmm what are the methods you are company men number then you can make the pent via men number but what is men number p w men number are you sending over w through your headphone number the men number remember to put it in the reference number h i dont know who is that speaking ah this is kelly h you send w i see whether it can or t\"\n",
              " }\n",
              " role: \"user\",\n",
              " parts {\n",
              "   text: \"{\\n  \\\"branch\\\": \\\"kim paradise\\\",\\n  \\\"category\\\": \\\"pricing/payments\\\",\\n  \\\"summary\\\": \\\"A customer called to make a payment but was unable to do so through the online system. The customer does not have an email address associated with their account, preventing them from receiving a payment link. The representative explained that Kim Paradise only uses email for payment links, and does not have a system for SMS payment links.  The representative suggested using the company\\'s phone number to make payment, and to provide the phone number in the reference number section.\\\"\\n}\"\n",
              " }\n",
              " role: \"model\",\n",
              " parts {\n",
              "   text: \"neo garden i do see if i miss calling tend we got in my order are you order for buffet or tank at delivery buffet can i have your order reference number the last 51 07 dana sorry 1 0 6 07 1 0 6 0 7 1 second let me check for you under mr jason tan right correct can i give my colleague to contact you because i tank shes anguish on the line w sure problem can i\"\n",
              " }\n",
              " role: \"user\",\n",
              " parts {\n",
              "   text: \"{\\\"branch\\\": \\\"neo garden\\\", \\\"category\\\": \\\"order amendment/modification\\\", \\\"summary\\\": \\\"The customer, Mr. Jason Tan, called to inquire about his buffet order (reference number 10607). As the representative was busy, they offered to have a colleague contact him to discuss the order.\\\"}\"\n",
              " }\n",
              " role: \"model\"]"
            ]
          },
          "metadata": {},
          "execution_count": 25
        }
      ]
    },
    {
      "cell_type": "code",
      "source": [
        "import json\n",
        "import time\n",
        "\n",
        "final_json = []\n",
        "\n",
        "for i in range(len(data)):\n",
        "    response = chat_session.send_message(data[i])\n",
        "    response_json = json.loads(response.text)\n",
        "\n",
        "    # Append more fields\n",
        "    response_json['content_type'] = 'text'\n",
        "    response_json['raw_transcript'] = data[i]\n",
        "\n",
        "    final_json.append(response_json)"
      ],
      "metadata": {
        "id": "KgnQcutO8Rsx"
      },
      "execution_count": 21,
      "outputs": []
    },
    {
      "cell_type": "code",
      "source": [
        "final_json"
      ],
      "metadata": {
        "id": "rVBtlJ6F8nFm",
        "outputId": "de5aff7f-50e9-401f-ac31-ee413f956ff5",
        "colab": {
          "base_uri": "https://localhost:8080/"
        }
      },
      "execution_count": 22,
      "outputs": [
        {
          "output_type": "execute_result",
          "data": {
            "text/plain": [
              "[{'branch': 'kim paradise',\n",
              "  'category': 'general faq',\n",
              "  'summary': \"The customer inquired about the pricing of Kim Paradise's King Card model 5, specifically whether the price differs between plastic containers and disposable ones. The salesperson clarified that the price is currently the same for both options, unlike in a previous instance where there was a price difference. The customer mentioned a previous order of 3000 units.\",\n",
              "  'content_type': 'text',\n",
              "  'raw_transcript': 'kim paradise morning id like to ask for a king card is there a difference in price whether it is plastic containers or disposable king card model 5 price tank of a disposable same price additional touch last time there was a difference right h for my growth container last time we got 3000 10 but w its a same price as well'},\n",
              " {'branch': 'kim paradise',\n",
              "  'category': 'order amendment/modification',\n",
              "  'summary': 'The customer called to discuss their contract renewal. Their previous contract was from 14/15, with a renewal in 19/19.  The customer wants to amend the contract start date, initially requesting 13/18, but ultimately settling for 15/16 after discussion with the representative. The representative confirmed the new contract start date as 15/16 and will send a new payment link.',\n",
              "  'content_type': 'text',\n",
              "  'raw_transcript': 'kim paradise kim paradise i your assistant customer can i give you my phone number on the verify time method your contact number please 9630 271 h what is your regarding month actually i just received a renewal email correct so the client contract is actually from 101218 let me check your last contract first so your previous contract is from 1415 until chop of approval correct so far in between in between there is a good rid at 1919 so were already done replacement you checked my calendar right from 3 or 4 months to 4 months or so total of 20 is actually that good rid has already gone oh its already gone so its already gone so its already gone so its already gone correct so the contract is from 1318 then i have to s that i want to go to 1318 but 1318 is a rid so the contract contract will be 7515 then i have to go to 1318 i want to go to 1418 i want to go to 1318 i want to go to 1318 1118 do you want to go to 1318 1118 correct so your new contract is from 1518 well give you 1718 then i want to go to 1518 i want to go to 1518 wait for your new pent link ah then ill put that in the chat 1718 then after that you can s that you have to go to 1318 so the next contract will start the contract will start the contract will start but what i want to do is to review 1518 i wont give you 1218 dont go to 1518 ill take 1516 so the contract will start well give you 1318'},\n",
              " {'branch': 'neo garden',\n",
              "  'category': 'delivery/logistics',\n",
              "  'summary': \"The customer contacted Neo Garden to clarify food warmer arrangements for their buffet order.  They were concerned about sauce mixing if multiple dishes were placed in a single warmer.  The salesperson explained that Neo Garden uses warmers with partitions to avoid this.  The customer also discussed early delivery options for table and chair rentals. While early delivery is possible for the rentals, there's a $90 transportation charge.  The customer requested that the salesperson respond to their email with this information, rather than proceeding with the request over the phone. The salesperson indicated that the person in charge will respond via email.\",\n",
              "  'content_type': 'text',\n",
              "  'raw_transcript': 'neo garden is this a cash to foin sorry can i ask to foin miners she on leave tod i actually received her email for my buffet confirmation so i just want to check i just read that the half warmer tag sorry because i ordered for the text correct the text will be put together in one warmer for information for the young souls half unlike its one long tree carried sugar is one raw warmer too much is one raw warmer then for the veggie and the fish for example one big warmer right you got two partition who put two dishes under the sharing tree there a partition of two trees two trees put inside one warmer i know worried the sauce will mix together one you need one of them h i also want to click and cry because i call a few times being taken out of a few trees because i myself have other veggie given text right there one that i cant put this text to consume a vegan hour but then the food itself can last for three hours three hours correct then because different people come with a different name because i want to prevent the vegan cry but i also want to get and cry if i can even though i can actually make a separate video for the private branch earlier then ill put it in the video we can arrange early delivery for the table and cr but there a rental the recharge 90 dollars 90 dollars after that actually that possible to be made possible as one of the so early delivery boy problem actually we also can send together the main table and cr rental can send early and the buffet will send later but there a transportation charge of 90 dollars can i do what you reply to her email then the person in charge will reply you oh so i just i just take the request because the other time when i call in they s can somebody call me they s can i can can early delivery can for the table rental but got transport charge as i said with the delivery charge then we can do delivery early ill write the email so much'},\n",
              " {'branch': 'kim paradise',\n",
              "  'category': 'pricing/payments',\n",
              "  'summary': \"A customer called to make a payment but was unable to do so through the online system. The customer does not have an email address associated with their account, preventing them from receiving a payment link. The representative explained that Kim Paradise only uses email for payment links, and does not have a system for SMS payment links.  The representative suggested using the company's phone number to make payment, and to provide the phone number in the reference number section.\",\n",
              "  'content_type': 'text',\n",
              "  'raw_transcript': 'kim paradise can i help you my phone number is 82 1 second 82 67 9 for all 78 1 second let me check for you anne is ad right h correct ad tend i want to make pent on your system down so i couldnt i dont know where to p can i s you dont have pent link w huh can i return you the pent link to your email you are i dont have email can you sums me we dont have sums system for pent link its only email email why h there an email address here oh i dont have email address hmm do you have the there m be a campaign by pa is it pa how do you make the pent previously website your website our website your website got a lot of code all the code give been to p through that account hmm what are the methods you are company men number then you can make the pent via men number but what is men number p w men number are you sending over w through your headphone number the men number remember to put it in the reference number h i dont know who is that speaking ah this is kelly h you send w i see whether it can or t'},\n",
              " {'branch': 'neo garden',\n",
              "  'category': 'order amendment/modification',\n",
              "  'summary': 'The customer, Mr. Jason Tan, called to inquire about his buffet order (reference number 10607). As the representative was busy, they offered to have a colleague contact him to discuss the order.',\n",
              "  'content_type': 'text',\n",
              "  'raw_transcript': 'neo garden i do see if i miss calling tend we got in my order are you order for buffet or tank at delivery buffet can i have your order reference number the last 51 07 dana sorry 1 0 6 07 1 0 6 0 7 1 second let me check for you under mr jason tan right correct can i give my colleague to contact you because i tank shes anguish on the line w sure problem can i'}]"
            ]
          },
          "metadata": {},
          "execution_count": 22
        }
      ]
    },
    {
      "cell_type": "code",
      "source": [
        "with open(\"/content/drive/MyDrive/NGC/summaries.json\", \"w\", encoding=\"utf-8\") as f:\n",
        "    json.dump(final_json, f, ensure_ascii=False, indent=4)"
      ],
      "metadata": {
        "id": "KTaAZXUa8ubT"
      },
      "execution_count": 23,
      "outputs": []
    },
    {
      "cell_type": "code",
      "source": [],
      "metadata": {
        "id": "-eEg0z9W632q"
      },
      "execution_count": null,
      "outputs": []
    }
  ],
  "metadata": {
    "colab": {
      "collapsed_sections": [
        "Tce3stUlHN0L"
      ],
      "name": "aistudio_gemini_prompt_freeform.ipynb",
      "provenance": []
    },
    "kernelspec": {
      "display_name": "Python 3",
      "name": "python3"
    }
  },
  "nbformat": 4,
  "nbformat_minor": 0
}